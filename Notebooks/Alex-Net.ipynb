{
 "cells": [
  {
   "cell_type": "code",
   "execution_count": 1,
   "metadata": {},
   "outputs": [
    {
     "name": "stderr",
     "output_type": "stream",
     "text": [
      "/usr/local/lib/python3.6/dist-packages/h5py/__init__.py:36: FutureWarning: Conversion of the second argument of issubdtype from `float` to `np.floating` is deprecated. In future, it will be treated as `np.float64 == np.dtype(float).type`.\n",
      "  from ._conv import register_converters as _register_converters\n",
      "Using TensorFlow backend.\n"
     ]
    }
   ],
   "source": [
    "from keras import layers\n",
    "import numpy as np\n",
    "import pandas as pd\n",
    "\n",
    "from keras.layers import Conv2D, MaxPooling2D,AveragePooling2D, Activation,BatchNormalization,Input,Dense,Add,Flatten\n",
    "from keras.layers import ZeroPadding2D,Dropout\n",
    "from keras.models import Model\n",
    "from keras.initializers import glorot_uniform"
   ]
  },
  {
   "cell_type": "code",
   "execution_count": 2,
   "metadata": {
    "collapsed": true
   },
   "outputs": [],
   "source": [
    "def AlexNet(input_shape=(64,64,3), classes = 6):\n",
    "    X_input=Input(input_shape)\n",
    "    X=ZeroPadding2D((3,3))(X_input)\n",
    "    X=Conv2D(96,(11,11),strides=4,name='conv1',kernel_initializer=glorot_uniform(seed=0))(X)\n",
    "    X=MaxPooling2D((3,3),strides=(2,2))(X)\n",
    "    X=BatchNormalization(axis=3,name='bn1')(X)\n",
    "    X=Conv2D(256,(5,5),strides=1,padding='same',name='conv2',kernel_initializer=glorot_uniform(seed=0))(X)\n",
    "    X=BatchNormalization(axis=3,name='bn2')(X)\n",
    "    X=Conv2D(384,(3,3),strides=1,padding='same',name='conv3',kernel_initializer=glorot_uniform(seed=0))(X)\n",
    "    X=Conv2D(384,(3,3),strides=1,padding='same',name='conv4',kernel_initializer=glorot_uniform(seed=0))(X)\n",
    "    X=Conv2D(256,(3,3),strides=1,padding='same',name='conv5',kernel_initializer=glorot_uniform(seed=0))(X)\n",
    "    X=Flatten()(X)\n",
    "    X=Dense(4096,activation='relu',name='fc1',kernel_initializer=glorot_uniform(seed=0))(X)\n",
    "    X=Dropout(0.5)(X)\n",
    "    X=Dense(1000,activation='relu',name='fc2',kernel_initializer=glorot_uniform(seed=0))(X)\n",
    "    X=Dropout(0.5)(X)\n",
    "    X=Dense(classes,activation='softmax',name='final',kernel_initializer=glorot_uniform(seed=0))(X)\n",
    "    model=Model(input=X_input,outputs=X,name='AlexNet')\n",
    "    return model\n",
    "    "
   ]
  },
  {
   "cell_type": "code",
   "execution_count": 3,
   "metadata": {},
   "outputs": [
    {
     "name": "stderr",
     "output_type": "stream",
     "text": [
      "/usr/local/lib/python3.6/dist-packages/ipykernel_launcher.py:18: UserWarning: Update your `Model` call to the Keras 2 API: `Model(outputs=Tensor(\"fi..., name=\"AlexNet\", inputs=Tensor(\"in...)`\n"
     ]
    }
   ],
   "source": [
    "model=AlexNet(input_shape=(64,64,3),classes=1)"
   ]
  },
  {
   "cell_type": "code",
   "execution_count": 4,
   "metadata": {
    "collapsed": true
   },
   "outputs": [],
   "source": [
    "model.compile(optimizer='adam',loss='categorical_crossentropy',metrics=['accuracy'])"
   ]
  },
  {
   "cell_type": "code",
   "execution_count": 13,
   "metadata": {
    "collapsed": true
   },
   "outputs": [],
   "source": [
    "import h5py"
   ]
  },
  {
   "cell_type": "code",
   "execution_count": null,
   "metadata": {
    "collapsed": true
   },
   "outputs": [],
   "source": [
    "model.fit(X_train,Y_train,epochs=15,batch_size=32)"
   ]
  }
 ],
 "metadata": {
  "kernelspec": {
   "display_name": "Python 3",
   "language": "python",
   "name": "python3"
  },
  "language_info": {
   "codemirror_mode": {
    "name": "ipython",
    "version": 3
   },
   "file_extension": ".py",
   "mimetype": "text/x-python",
   "name": "python",
   "nbconvert_exporter": "python",
   "pygments_lexer": "ipython3",
   "version": "3.6.3"
  }
 },
 "nbformat": 4,
 "nbformat_minor": 2
}
