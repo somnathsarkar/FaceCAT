{
 "cells": [
  {
   "cell_type": "markdown",
   "metadata": {},
   "source": [
    "# Race Prediction on LFW"
   ]
  },
  {
   "cell_type": "markdown",
   "metadata": {},
   "source": [
    "## Import Libraries"
   ]
  },
  {
   "cell_type": "code",
   "execution_count": 1,
   "metadata": {},
   "outputs": [
    {
     "name": "stderr",
     "output_type": "stream",
     "text": [
      "Using TensorFlow backend.\n"
     ]
    }
   ],
   "source": [
    "import numpy as np\n",
    "import pandas as pd\n",
    "import matplotlib.pyplot as plt\n",
    "from keras.models import Sequential\n",
    "from keras.layers import Convolution2D,MaxPooling2D,Dense,Dropout,Activation,Flatten\n",
    "from keras.callbacks import ModelCheckpoint,EarlyStopping\n",
    "import seaborn as sns\n",
    "from sklearn.metrics import accuracy_score,classification_report\n",
    "from sklearn.ensemble import RandomForestRegressor\n",
    "from sklearn.externals import joblib\n",
    "from sklearn.model_selection import train_test_split\n",
    "from sklearn.preprocessing import LabelBinarizer\n",
    "from sklearn import svm\n",
    "import h5py\n",
    "import cv2"
   ]
  },
  {
   "cell_type": "markdown",
   "metadata": {},
   "source": [
    "## Load Data"
   ]
  },
  {
   "cell_type": "code",
   "execution_count": 10,
   "metadata": {
    "collapsed": true
   },
   "outputs": [],
   "source": [
    "lfwdf = pd.read_csv(\"../Data/lfw_attributes.txt\",sep='\\t')\n",
    "imgdf = pd.read_csv(\"../Data/lfw_grayscale_64.csv\",header=None)"
   ]
  },
  {
   "cell_type": "code",
   "execution_count": 11,
   "metadata": {},
   "outputs": [
    {
     "name": "stdout",
     "output_type": "stream",
     "text": [
      "(array([0, 1, 2, 3]), array([ 1318, 10651,   675,   499], dtype=int64))\n"
     ]
    }
   ],
   "source": [
    "y_train = []\n",
    "for i in range(len(lfwdf)):\n",
    "    racemax = max(lfwdf[\"Asian\"][i],lfwdf[\"White\"][i],lfwdf[\"Black\"][i],lfwdf[\"Indian\"][i])\n",
    "    if lfwdf[\"Asian\"][i]==racemax:\n",
    "        y_train.append(0)\n",
    "    elif lfwdf[\"White\"][i]==racemax:\n",
    "        y_train.append(1)\n",
    "    elif lfwdf[\"Black\"][i]==racemax:\n",
    "        y_train.append(2)\n",
    "    else:\n",
    "        y_train.append(3)\n",
    "y_train=np.array(y_train)\n",
    "print(np.unique(y_train,return_counts=True))"
   ]
  },
  {
   "cell_type": "code",
   "execution_count": 12,
   "metadata": {},
   "outputs": [
    {
     "name": "stdout",
     "output_type": "stream",
     "text": [
      "(13143, 64, 64, 1)\n"
     ]
    }
   ],
   "source": [
    "np.random.seed(123)\n",
    "X_train = (imgdf.iloc[:len(y_train),1:].values.astype(float).reshape(-1,64,64,1))/255\n",
    "print(X_train.shape)"
   ]
  },
  {
   "cell_type": "markdown",
   "metadata": {},
   "source": [
    "## VGG-16 Model"
   ]
  },
  {
   "cell_type": "code",
   "execution_count": 13,
   "metadata": {},
   "outputs": [
    {
     "name": "stdout",
     "output_type": "stream",
     "text": [
      "_________________________________________________________________\n",
      "Layer (type)                 Output Shape              Param #   \n",
      "=================================================================\n",
      "conv2d_7 (Conv2D)            (None, 64, 64, 32)        320       \n",
      "_________________________________________________________________\n",
      "conv2d_8 (Conv2D)            (None, 64, 64, 32)        9248      \n",
      "_________________________________________________________________\n",
      "max_pooling2d_3 (MaxPooling2 (None, 32, 32, 32)        0         \n",
      "_________________________________________________________________\n",
      "conv2d_9 (Conv2D)            (None, 32, 32, 64)        18496     \n",
      "_________________________________________________________________\n",
      "conv2d_10 (Conv2D)           (None, 32, 32, 64)        36928     \n",
      "_________________________________________________________________\n",
      "max_pooling2d_4 (MaxPooling2 (None, 16, 16, 64)        0         \n",
      "_________________________________________________________________\n",
      "conv2d_11 (Conv2D)           (None, 16, 16, 128)       73856     \n",
      "_________________________________________________________________\n",
      "conv2d_12 (Conv2D)           (None, 16, 16, 128)       147584    \n",
      "_________________________________________________________________\n",
      "flatten_2 (Flatten)          (None, 32768)             0         \n",
      "_________________________________________________________________\n",
      "dense_4 (Dense)              (None, 1024)              33555456  \n",
      "_________________________________________________________________\n",
      "dense_5 (Dense)              (None, 1024)              1049600   \n",
      "_________________________________________________________________\n",
      "dense_6 (Dense)              (None, 4)                 4100      \n",
      "=================================================================\n",
      "Total params: 34,895,588\n",
      "Trainable params: 34,895,588\n",
      "Non-trainable params: 0\n",
      "_________________________________________________________________\n"
     ]
    }
   ],
   "source": [
    "model = Sequential()\n",
    "model.add(Convolution2D(32,(3,3),activation='relu',input_shape=(64,64,1),padding='same'))\n",
    "model.add(Convolution2D(32,(3,3),activation='relu',padding='same'))\n",
    "model.add(MaxPooling2D(pool_size=(2,2),strides=(2,2)))\n",
    "model.add(Convolution2D(64,(3,3),activation='relu',padding='same'))\n",
    "model.add(Convolution2D(64,(3,3),activation='relu',padding='same'))\n",
    "model.add(MaxPooling2D(pool_size=(2,2),strides=(2,2)))\n",
    "model.add(Convolution2D(128,(3,3),activation='relu',padding='same'))\n",
    "model.add(Convolution2D(128,(3,3),activation='relu',padding='same'))\n",
    "model.add(Flatten())\n",
    "model.add(Dense(1024,activation='relu'))\n",
    "model.add(Dense(1024,activation='relu'))\n",
    "model.add(Dense(4,activation='softmax'))\n",
    "model.compile(loss='categorical_crossentropy',optimizer='adam',metrics=['accuracy'])\n",
    "model.summary()"
   ]
  },
  {
   "cell_type": "code",
   "execution_count": 29,
   "metadata": {
    "collapsed": true
   },
   "outputs": [],
   "source": [
    "save_callback = ModelCheckpoint(\"../Models/LFW_GRAYSCALE_64/Race/no-dropout-{epoch:03d}-{val_loss:.4f}.hdf5\",verbose=1)\n",
    "es_callback = EarlyStopping(patience=5,verbose=1)\n",
    "callback_list = [save_callback,es_callback]"
   ]
  },
  {
   "cell_type": "markdown",
   "metadata": {},
   "source": [
    "## Training the Model"
   ]
  },
  {
   "cell_type": "code",
   "execution_count": 30,
   "metadata": {},
   "outputs": [
    {
     "name": "stdout",
     "output_type": "stream",
     "text": [
      "Train on 9857 samples, validate on 3286 samples\n",
      "Epoch 1/100\n",
      "9856/9857 [============================>.] - ETA: 0s - loss: 0.7131 - acc: 0.8094Epoch 00001: saving model to ../Models/LFW_GRAYSCALE_64/Race/no-dropout-001-0.7030.hdf5\n",
      "9857/9857 [==============================] - 207s 21ms/step - loss: 0.7131 - acc: 0.8094 - val_loss: 0.7030 - val_acc: 0.8104\n",
      "Epoch 2/100\n",
      "9856/9857 [============================>.] - ETA: 0s - loss: 0.6874 - acc: 0.8104Epoch 00002: saving model to ../Models/LFW_GRAYSCALE_64/Race/no-dropout-002-0.6794.hdf5\n",
      "9857/9857 [==============================] - 204s 21ms/step - loss: 0.6873 - acc: 0.8104 - val_loss: 0.6794 - val_acc: 0.8104\n",
      "Epoch 3/100\n",
      "9856/9857 [============================>.] - ETA: 0s - loss: 0.6848 - acc: 0.8105Epoch 00003: saving model to ../Models/LFW_GRAYSCALE_64/Race/no-dropout-003-0.6826.hdf5\n",
      "9857/9857 [==============================] - 203s 21ms/step - loss: 0.6850 - acc: 0.8104 - val_loss: 0.6826 - val_acc: 0.8104\n",
      "Epoch 4/100\n",
      "9856/9857 [============================>.] - ETA: 0s - loss: 0.6853 - acc: 0.8104Epoch 00004: saving model to ../Models/LFW_GRAYSCALE_64/Race/no-dropout-004-0.6819.hdf5\n",
      "9857/9857 [==============================] - 201s 20ms/step - loss: 0.6853 - acc: 0.8104 - val_loss: 0.6819 - val_acc: 0.8104\n",
      "Epoch 5/100\n",
      "9856/9857 [============================>.] - ETA: 0s - loss: 0.6812 - acc: 0.8104Epoch 00005: saving model to ../Models/LFW_GRAYSCALE_64/Race/no-dropout-005-0.6834.hdf5\n",
      "9857/9857 [==============================] - 205s 21ms/step - loss: 0.6812 - acc: 0.8104 - val_loss: 0.6834 - val_acc: 0.8104\n",
      "Epoch 6/100\n",
      "9856/9857 [============================>.] - ETA: 0s - loss: 0.6807 - acc: 0.8104Epoch 00006: saving model to ../Models/LFW_GRAYSCALE_64/Race/no-dropout-006-0.6795.hdf5\n",
      "9857/9857 [==============================] - 202s 20ms/step - loss: 0.6807 - acc: 0.8104 - val_loss: 0.6795 - val_acc: 0.8104\n",
      "Epoch 7/100\n",
      "9856/9857 [============================>.] - ETA: 0s - loss: 0.6791 - acc: 0.8105Epoch 00007: saving model to ../Models/LFW_GRAYSCALE_64/Race/no-dropout-007-0.6790.hdf5\n",
      "9857/9857 [==============================] - 201s 20ms/step - loss: 0.6794 - acc: 0.8104 - val_loss: 0.6790 - val_acc: 0.8104\n",
      "Epoch 8/100\n",
      "9856/9857 [============================>.] - ETA: 0s - loss: 0.6805 - acc: 0.8104Epoch 00008: saving model to ../Models/LFW_GRAYSCALE_64/Race/no-dropout-008-0.6814.hdf5\n",
      "9857/9857 [==============================] - 207s 21ms/step - loss: 0.6805 - acc: 0.8104 - val_loss: 0.6814 - val_acc: 0.8104\n",
      "Epoch 9/100\n",
      "9856/9857 [============================>.] - ETA: 0s - loss: 0.6798 - acc: 0.8105Epoch 00009: saving model to ../Models/LFW_GRAYSCALE_64/Race/no-dropout-009-0.6816.hdf5\n",
      "9857/9857 [==============================] - 204s 21ms/step - loss: 0.6800 - acc: 0.8104 - val_loss: 0.6816 - val_acc: 0.8104\n",
      "Epoch 10/100\n",
      "9856/9857 [============================>.] - ETA: 0s - loss: 0.6815 - acc: 0.8104Epoch 00010: saving model to ../Models/LFW_GRAYSCALE_64/Race/no-dropout-010-0.6783.hdf5\n",
      "9857/9857 [==============================] - 201s 20ms/step - loss: 0.6814 - acc: 0.8104 - val_loss: 0.6783 - val_acc: 0.8104\n",
      "Epoch 11/100\n",
      "9856/9857 [============================>.] - ETA: 0s - loss: 0.6789 - acc: 0.8104Epoch 00011: saving model to ../Models/LFW_GRAYSCALE_64/Race/no-dropout-011-0.6797.hdf5\n",
      "9857/9857 [==============================] - 203s 21ms/step - loss: 0.6788 - acc: 0.8104 - val_loss: 0.6797 - val_acc: 0.8104\n",
      "Epoch 12/100\n",
      "9856/9857 [============================>.] - ETA: 0s - loss: 0.6800 - acc: 0.8105Epoch 00012: saving model to ../Models/LFW_GRAYSCALE_64/Race/no-dropout-012-0.6785.hdf5\n",
      "9857/9857 [==============================] - 202s 20ms/step - loss: 0.6801 - acc: 0.8104 - val_loss: 0.6785 - val_acc: 0.8104\n",
      "Epoch 13/100\n",
      "9856/9857 [============================>.] - ETA: 0s - loss: 0.6793 - acc: 0.8104Epoch 00013: saving model to ../Models/LFW_GRAYSCALE_64/Race/no-dropout-013-0.6792.hdf5\n",
      "9857/9857 [==============================] - 202s 21ms/step - loss: 0.6792 - acc: 0.8104 - val_loss: 0.6792 - val_acc: 0.8104\n",
      "Epoch 14/100\n",
      "9856/9857 [============================>.] - ETA: 0s - loss: 0.6789 - acc: 0.8104Epoch 00014: saving model to ../Models/LFW_GRAYSCALE_64/Race/no-dropout-014-0.6783.hdf5\n",
      "9857/9857 [==============================] - 202s 20ms/step - loss: 0.6788 - acc: 0.8104 - val_loss: 0.6783 - val_acc: 0.8104\n",
      "Epoch 15/100\n",
      "9856/9857 [============================>.] - ETA: 0s - loss: 0.6797 - acc: 0.8104Epoch 00015: saving model to ../Models/LFW_GRAYSCALE_64/Race/no-dropout-015-0.6791.hdf5\n",
      "9857/9857 [==============================] - 201s 20ms/step - loss: 0.6796 - acc: 0.8104 - val_loss: 0.6791 - val_acc: 0.8104\n",
      "Epoch 16/100\n",
      "9856/9857 [============================>.] - ETA: 0s - loss: 0.6794 - acc: 0.8104Epoch 00016: saving model to ../Models/LFW_GRAYSCALE_64/Race/no-dropout-016-0.6795.hdf5\n",
      "9857/9857 [==============================] - 209s 21ms/step - loss: 0.6794 - acc: 0.8104 - val_loss: 0.6795 - val_acc: 0.8104\n",
      "Epoch 17/100\n",
      "9856/9857 [============================>.] - ETA: 0s - loss: 0.6794 - acc: 0.8104Epoch 00017: saving model to ../Models/LFW_GRAYSCALE_64/Race/no-dropout-017-0.6788.hdf5\n",
      "9857/9857 [==============================] - 208s 21ms/step - loss: 0.6793 - acc: 0.8104 - val_loss: 0.6788 - val_acc: 0.8104\n",
      "Epoch 18/100\n",
      "9856/9857 [============================>.] - ETA: 0s - loss: 0.6794 - acc: 0.8104Epoch 00018: saving model to ../Models/LFW_GRAYSCALE_64/Race/no-dropout-018-0.6783.hdf5\n",
      "9857/9857 [==============================] - 205s 21ms/step - loss: 0.6794 - acc: 0.8104 - val_loss: 0.6783 - val_acc: 0.8104\n",
      "Epoch 19/100\n",
      "9856/9857 [============================>.] - ETA: 0s - loss: 0.6791 - acc: 0.8105Epoch 00019: saving model to ../Models/LFW_GRAYSCALE_64/Race/no-dropout-019-0.6826.hdf5\n",
      "9857/9857 [==============================] - 203s 21ms/step - loss: 0.6794 - acc: 0.8104 - val_loss: 0.6826 - val_acc: 0.8104\n",
      "Epoch 20/100\n",
      "9856/9857 [============================>.] - ETA: 0s - loss: 0.6800 - acc: 0.8104Epoch 00020: saving model to ../Models/LFW_GRAYSCALE_64/Race/no-dropout-020-0.6790.hdf5\n",
      "9857/9857 [==============================] - 203s 21ms/step - loss: 0.6800 - acc: 0.8104 - val_loss: 0.6790 - val_acc: 0.8104\n",
      "Epoch 21/100\n",
      " 128/9857 [..............................] - ETA: 3:06 - loss: 0.6886 - acc: 0.8047"
     ]
    },
    {
     "ename": "KeyboardInterrupt",
     "evalue": "",
     "output_type": "error",
     "traceback": [
      "\u001b[1;31m---------------------------------------------------------------------------\u001b[0m",
      "\u001b[1;31mKeyboardInterrupt\u001b[0m                         Traceback (most recent call last)",
      "\u001b[1;32m<ipython-input-30-bbea48772510>\u001b[0m in \u001b[0;36m<module>\u001b[1;34m()\u001b[0m\n\u001b[1;32m----> 1\u001b[1;33m \u001b[0mmodel\u001b[0m\u001b[1;33m.\u001b[0m\u001b[0mfit\u001b[0m\u001b[1;33m(\u001b[0m\u001b[0mX_train\u001b[0m\u001b[1;33m,\u001b[0m\u001b[0my_train\u001b[0m\u001b[1;33m,\u001b[0m\u001b[0mbatch_size\u001b[0m\u001b[1;33m=\u001b[0m\u001b[1;36m32\u001b[0m\u001b[1;33m,\u001b[0m\u001b[0mepochs\u001b[0m\u001b[1;33m=\u001b[0m\u001b[1;36m100\u001b[0m\u001b[1;33m,\u001b[0m\u001b[0mverbose\u001b[0m\u001b[1;33m=\u001b[0m\u001b[1;36m1\u001b[0m\u001b[1;33m,\u001b[0m\u001b[0mcallbacks\u001b[0m\u001b[1;33m=\u001b[0m\u001b[0mcallback_list\u001b[0m\u001b[1;33m,\u001b[0m\u001b[0mvalidation_data\u001b[0m\u001b[1;33m=\u001b[0m\u001b[1;33m(\u001b[0m\u001b[0mX_test\u001b[0m\u001b[1;33m,\u001b[0m\u001b[0my_test\u001b[0m\u001b[1;33m)\u001b[0m\u001b[1;33m)\u001b[0m\u001b[1;33m\u001b[0m\u001b[0m\n\u001b[0m",
      "\u001b[1;32mC:\\ProgramData\\Miniconda3\\lib\\site-packages\\keras\\models.py\u001b[0m in \u001b[0;36mfit\u001b[1;34m(self, x, y, batch_size, epochs, verbose, callbacks, validation_split, validation_data, shuffle, class_weight, sample_weight, initial_epoch, steps_per_epoch, validation_steps, **kwargs)\u001b[0m\n\u001b[0;32m    958\u001b[0m                               \u001b[0minitial_epoch\u001b[0m\u001b[1;33m=\u001b[0m\u001b[0minitial_epoch\u001b[0m\u001b[1;33m,\u001b[0m\u001b[1;33m\u001b[0m\u001b[0m\n\u001b[0;32m    959\u001b[0m                               \u001b[0msteps_per_epoch\u001b[0m\u001b[1;33m=\u001b[0m\u001b[0msteps_per_epoch\u001b[0m\u001b[1;33m,\u001b[0m\u001b[1;33m\u001b[0m\u001b[0m\n\u001b[1;32m--> 960\u001b[1;33m                               validation_steps=validation_steps)\n\u001b[0m\u001b[0;32m    961\u001b[0m \u001b[1;33m\u001b[0m\u001b[0m\n\u001b[0;32m    962\u001b[0m     def evaluate(self, x, y, batch_size=32, verbose=1,\n",
      "\u001b[1;32mC:\\ProgramData\\Miniconda3\\lib\\site-packages\\keras\\engine\\training.py\u001b[0m in \u001b[0;36mfit\u001b[1;34m(self, x, y, batch_size, epochs, verbose, callbacks, validation_split, validation_data, shuffle, class_weight, sample_weight, initial_epoch, steps_per_epoch, validation_steps, **kwargs)\u001b[0m\n\u001b[0;32m   1655\u001b[0m                               \u001b[0minitial_epoch\u001b[0m\u001b[1;33m=\u001b[0m\u001b[0minitial_epoch\u001b[0m\u001b[1;33m,\u001b[0m\u001b[1;33m\u001b[0m\u001b[0m\n\u001b[0;32m   1656\u001b[0m                               \u001b[0msteps_per_epoch\u001b[0m\u001b[1;33m=\u001b[0m\u001b[0msteps_per_epoch\u001b[0m\u001b[1;33m,\u001b[0m\u001b[1;33m\u001b[0m\u001b[0m\n\u001b[1;32m-> 1657\u001b[1;33m                               validation_steps=validation_steps)\n\u001b[0m\u001b[0;32m   1658\u001b[0m \u001b[1;33m\u001b[0m\u001b[0m\n\u001b[0;32m   1659\u001b[0m     def evaluate(self, x=None, y=None,\n",
      "\u001b[1;32mC:\\ProgramData\\Miniconda3\\lib\\site-packages\\keras\\engine\\training.py\u001b[0m in \u001b[0;36m_fit_loop\u001b[1;34m(self, f, ins, out_labels, batch_size, epochs, verbose, callbacks, val_f, val_ins, shuffle, callback_metrics, initial_epoch, steps_per_epoch, validation_steps)\u001b[0m\n\u001b[0;32m   1211\u001b[0m                     \u001b[0mbatch_logs\u001b[0m\u001b[1;33m[\u001b[0m\u001b[1;34m'size'\u001b[0m\u001b[1;33m]\u001b[0m \u001b[1;33m=\u001b[0m \u001b[0mlen\u001b[0m\u001b[1;33m(\u001b[0m\u001b[0mbatch_ids\u001b[0m\u001b[1;33m)\u001b[0m\u001b[1;33m\u001b[0m\u001b[0m\n\u001b[0;32m   1212\u001b[0m                     \u001b[0mcallbacks\u001b[0m\u001b[1;33m.\u001b[0m\u001b[0mon_batch_begin\u001b[0m\u001b[1;33m(\u001b[0m\u001b[0mbatch_index\u001b[0m\u001b[1;33m,\u001b[0m \u001b[0mbatch_logs\u001b[0m\u001b[1;33m)\u001b[0m\u001b[1;33m\u001b[0m\u001b[0m\n\u001b[1;32m-> 1213\u001b[1;33m                     \u001b[0mouts\u001b[0m \u001b[1;33m=\u001b[0m \u001b[0mf\u001b[0m\u001b[1;33m(\u001b[0m\u001b[0mins_batch\u001b[0m\u001b[1;33m)\u001b[0m\u001b[1;33m\u001b[0m\u001b[0m\n\u001b[0m\u001b[0;32m   1214\u001b[0m                     \u001b[1;32mif\u001b[0m \u001b[1;32mnot\u001b[0m \u001b[0misinstance\u001b[0m\u001b[1;33m(\u001b[0m\u001b[0mouts\u001b[0m\u001b[1;33m,\u001b[0m \u001b[0mlist\u001b[0m\u001b[1;33m)\u001b[0m\u001b[1;33m:\u001b[0m\u001b[1;33m\u001b[0m\u001b[0m\n\u001b[0;32m   1215\u001b[0m                         \u001b[0mouts\u001b[0m \u001b[1;33m=\u001b[0m \u001b[1;33m[\u001b[0m\u001b[0mouts\u001b[0m\u001b[1;33m]\u001b[0m\u001b[1;33m\u001b[0m\u001b[0m\n",
      "\u001b[1;32mC:\\ProgramData\\Miniconda3\\lib\\site-packages\\keras\\backend\\tensorflow_backend.py\u001b[0m in \u001b[0;36m__call__\u001b[1;34m(self, inputs)\u001b[0m\n\u001b[0;32m   2355\u001b[0m         \u001b[0msession\u001b[0m \u001b[1;33m=\u001b[0m \u001b[0mget_session\u001b[0m\u001b[1;33m(\u001b[0m\u001b[1;33m)\u001b[0m\u001b[1;33m\u001b[0m\u001b[0m\n\u001b[0;32m   2356\u001b[0m         updated = session.run(fetches=fetches, feed_dict=feed_dict,\n\u001b[1;32m-> 2357\u001b[1;33m                               **self.session_kwargs)\n\u001b[0m\u001b[0;32m   2358\u001b[0m         \u001b[1;32mreturn\u001b[0m \u001b[0mupdated\u001b[0m\u001b[1;33m[\u001b[0m\u001b[1;33m:\u001b[0m\u001b[0mlen\u001b[0m\u001b[1;33m(\u001b[0m\u001b[0mself\u001b[0m\u001b[1;33m.\u001b[0m\u001b[0moutputs\u001b[0m\u001b[1;33m)\u001b[0m\u001b[1;33m]\u001b[0m\u001b[1;33m\u001b[0m\u001b[0m\n\u001b[0;32m   2359\u001b[0m \u001b[1;33m\u001b[0m\u001b[0m\n",
      "\u001b[1;32mC:\\ProgramData\\Miniconda3\\lib\\site-packages\\tensorflow\\python\\client\\session.py\u001b[0m in \u001b[0;36mrun\u001b[1;34m(self, fetches, feed_dict, options, run_metadata)\u001b[0m\n\u001b[0;32m    887\u001b[0m     \u001b[1;32mtry\u001b[0m\u001b[1;33m:\u001b[0m\u001b[1;33m\u001b[0m\u001b[0m\n\u001b[0;32m    888\u001b[0m       result = self._run(None, fetches, feed_dict, options_ptr,\n\u001b[1;32m--> 889\u001b[1;33m                          run_metadata_ptr)\n\u001b[0m\u001b[0;32m    890\u001b[0m       \u001b[1;32mif\u001b[0m \u001b[0mrun_metadata\u001b[0m\u001b[1;33m:\u001b[0m\u001b[1;33m\u001b[0m\u001b[0m\n\u001b[0;32m    891\u001b[0m         \u001b[0mproto_data\u001b[0m \u001b[1;33m=\u001b[0m \u001b[0mtf_session\u001b[0m\u001b[1;33m.\u001b[0m\u001b[0mTF_GetBuffer\u001b[0m\u001b[1;33m(\u001b[0m\u001b[0mrun_metadata_ptr\u001b[0m\u001b[1;33m)\u001b[0m\u001b[1;33m\u001b[0m\u001b[0m\n",
      "\u001b[1;32mC:\\ProgramData\\Miniconda3\\lib\\site-packages\\tensorflow\\python\\client\\session.py\u001b[0m in \u001b[0;36m_run\u001b[1;34m(self, handle, fetches, feed_dict, options, run_metadata)\u001b[0m\n\u001b[0;32m   1118\u001b[0m     \u001b[1;32mif\u001b[0m \u001b[0mfinal_fetches\u001b[0m \u001b[1;32mor\u001b[0m \u001b[0mfinal_targets\u001b[0m \u001b[1;32mor\u001b[0m \u001b[1;33m(\u001b[0m\u001b[0mhandle\u001b[0m \u001b[1;32mand\u001b[0m \u001b[0mfeed_dict_tensor\u001b[0m\u001b[1;33m)\u001b[0m\u001b[1;33m:\u001b[0m\u001b[1;33m\u001b[0m\u001b[0m\n\u001b[0;32m   1119\u001b[0m       results = self._do_run(handle, final_targets, final_fetches,\n\u001b[1;32m-> 1120\u001b[1;33m                              feed_dict_tensor, options, run_metadata)\n\u001b[0m\u001b[0;32m   1121\u001b[0m     \u001b[1;32melse\u001b[0m\u001b[1;33m:\u001b[0m\u001b[1;33m\u001b[0m\u001b[0m\n\u001b[0;32m   1122\u001b[0m       \u001b[0mresults\u001b[0m \u001b[1;33m=\u001b[0m \u001b[1;33m[\u001b[0m\u001b[1;33m]\u001b[0m\u001b[1;33m\u001b[0m\u001b[0m\n",
      "\u001b[1;32mC:\\ProgramData\\Miniconda3\\lib\\site-packages\\tensorflow\\python\\client\\session.py\u001b[0m in \u001b[0;36m_do_run\u001b[1;34m(self, handle, target_list, fetch_list, feed_dict, options, run_metadata)\u001b[0m\n\u001b[0;32m   1315\u001b[0m     \u001b[1;32mif\u001b[0m \u001b[0mhandle\u001b[0m \u001b[1;32mis\u001b[0m \u001b[1;32mNone\u001b[0m\u001b[1;33m:\u001b[0m\u001b[1;33m\u001b[0m\u001b[0m\n\u001b[0;32m   1316\u001b[0m       return self._do_call(_run_fn, self._session, feeds, fetches, targets,\n\u001b[1;32m-> 1317\u001b[1;33m                            options, run_metadata)\n\u001b[0m\u001b[0;32m   1318\u001b[0m     \u001b[1;32melse\u001b[0m\u001b[1;33m:\u001b[0m\u001b[1;33m\u001b[0m\u001b[0m\n\u001b[0;32m   1319\u001b[0m       \u001b[1;32mreturn\u001b[0m \u001b[0mself\u001b[0m\u001b[1;33m.\u001b[0m\u001b[0m_do_call\u001b[0m\u001b[1;33m(\u001b[0m\u001b[0m_prun_fn\u001b[0m\u001b[1;33m,\u001b[0m \u001b[0mself\u001b[0m\u001b[1;33m.\u001b[0m\u001b[0m_session\u001b[0m\u001b[1;33m,\u001b[0m \u001b[0mhandle\u001b[0m\u001b[1;33m,\u001b[0m \u001b[0mfeeds\u001b[0m\u001b[1;33m,\u001b[0m \u001b[0mfetches\u001b[0m\u001b[1;33m)\u001b[0m\u001b[1;33m\u001b[0m\u001b[0m\n",
      "\u001b[1;32mC:\\ProgramData\\Miniconda3\\lib\\site-packages\\tensorflow\\python\\client\\session.py\u001b[0m in \u001b[0;36m_do_call\u001b[1;34m(self, fn, *args)\u001b[0m\n\u001b[0;32m   1321\u001b[0m   \u001b[1;32mdef\u001b[0m \u001b[0m_do_call\u001b[0m\u001b[1;33m(\u001b[0m\u001b[0mself\u001b[0m\u001b[1;33m,\u001b[0m \u001b[0mfn\u001b[0m\u001b[1;33m,\u001b[0m \u001b[1;33m*\u001b[0m\u001b[0margs\u001b[0m\u001b[1;33m)\u001b[0m\u001b[1;33m:\u001b[0m\u001b[1;33m\u001b[0m\u001b[0m\n\u001b[0;32m   1322\u001b[0m     \u001b[1;32mtry\u001b[0m\u001b[1;33m:\u001b[0m\u001b[1;33m\u001b[0m\u001b[0m\n\u001b[1;32m-> 1323\u001b[1;33m       \u001b[1;32mreturn\u001b[0m \u001b[0mfn\u001b[0m\u001b[1;33m(\u001b[0m\u001b[1;33m*\u001b[0m\u001b[0margs\u001b[0m\u001b[1;33m)\u001b[0m\u001b[1;33m\u001b[0m\u001b[0m\n\u001b[0m\u001b[0;32m   1324\u001b[0m     \u001b[1;32mexcept\u001b[0m \u001b[0merrors\u001b[0m\u001b[1;33m.\u001b[0m\u001b[0mOpError\u001b[0m \u001b[1;32mas\u001b[0m \u001b[0me\u001b[0m\u001b[1;33m:\u001b[0m\u001b[1;33m\u001b[0m\u001b[0m\n\u001b[0;32m   1325\u001b[0m       \u001b[0mmessage\u001b[0m \u001b[1;33m=\u001b[0m \u001b[0mcompat\u001b[0m\u001b[1;33m.\u001b[0m\u001b[0mas_text\u001b[0m\u001b[1;33m(\u001b[0m\u001b[0me\u001b[0m\u001b[1;33m.\u001b[0m\u001b[0mmessage\u001b[0m\u001b[1;33m)\u001b[0m\u001b[1;33m\u001b[0m\u001b[0m\n",
      "\u001b[1;32mC:\\ProgramData\\Miniconda3\\lib\\site-packages\\tensorflow\\python\\client\\session.py\u001b[0m in \u001b[0;36m_run_fn\u001b[1;34m(session, feed_dict, fetch_list, target_list, options, run_metadata)\u001b[0m\n\u001b[0;32m   1300\u001b[0m           return tf_session.TF_Run(session, options,\n\u001b[0;32m   1301\u001b[0m                                    \u001b[0mfeed_dict\u001b[0m\u001b[1;33m,\u001b[0m \u001b[0mfetch_list\u001b[0m\u001b[1;33m,\u001b[0m \u001b[0mtarget_list\u001b[0m\u001b[1;33m,\u001b[0m\u001b[1;33m\u001b[0m\u001b[0m\n\u001b[1;32m-> 1302\u001b[1;33m                                    status, run_metadata)\n\u001b[0m\u001b[0;32m   1303\u001b[0m \u001b[1;33m\u001b[0m\u001b[0m\n\u001b[0;32m   1304\u001b[0m     \u001b[1;32mdef\u001b[0m \u001b[0m_prun_fn\u001b[0m\u001b[1;33m(\u001b[0m\u001b[0msession\u001b[0m\u001b[1;33m,\u001b[0m \u001b[0mhandle\u001b[0m\u001b[1;33m,\u001b[0m \u001b[0mfeed_dict\u001b[0m\u001b[1;33m,\u001b[0m \u001b[0mfetch_list\u001b[0m\u001b[1;33m)\u001b[0m\u001b[1;33m:\u001b[0m\u001b[1;33m\u001b[0m\u001b[0m\n",
      "\u001b[1;31mKeyboardInterrupt\u001b[0m: "
     ]
    }
   ],
   "source": [
    "model.fit(X_train,y_train,batch_size=32,epochs=100,verbose=1,callbacks=callback_list,validation_data=(X_test,y_test))"
   ]
  },
  {
   "cell_type": "code",
   "execution_count": 14,
   "metadata": {},
   "outputs": [],
   "source": [
    "model.load_weights(\"../Models/LFW_GRAYSCALE_64/Race/no-dropout-001-0.7030.hdf5\")\n",
    "y_pred = model.predict(X_train)"
   ]
  },
  {
   "cell_type": "code",
   "execution_count": 15,
   "metadata": {},
   "outputs": [],
   "source": [
    "y_pred_int = []\n",
    "for i in range(len(y_pred)):\n",
    "    for j in range(len(y_pred[i])):\n",
    "        if y_pred[i][j]==max(y_pred[i]):\n",
    "            y_pred_int.append(j)\n",
    "            break"
   ]
  },
  {
   "cell_type": "markdown",
   "metadata": {},
   "source": [
    "## Results"
   ]
  },
  {
   "cell_type": "code",
   "execution_count": 17,
   "metadata": {},
   "outputs": [
    {
     "name": "stdout",
     "output_type": "stream",
     "text": [
      "0.81039336529\n"
     ]
    }
   ],
   "source": [
    "print(accuracy_score(y_train,y_pred_int))"
   ]
  },
  {
   "cell_type": "code",
   "execution_count": null,
   "metadata": {
    "collapsed": true
   },
   "outputs": [],
   "source": []
  }
 ],
 "metadata": {
  "kernelspec": {
   "display_name": "Python 3",
   "language": "python",
   "name": "python3"
  },
  "language_info": {
   "codemirror_mode": {
    "name": "ipython",
    "version": 3
   },
   "file_extension": ".py",
   "mimetype": "text/x-python",
   "name": "python",
   "nbconvert_exporter": "python",
   "pygments_lexer": "ipython3",
   "version": "3.6.1"
  }
 },
 "nbformat": 4,
 "nbformat_minor": 2
}
